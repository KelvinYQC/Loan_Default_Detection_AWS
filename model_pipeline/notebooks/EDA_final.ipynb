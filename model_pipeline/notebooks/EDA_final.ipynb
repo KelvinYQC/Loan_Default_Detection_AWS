{
 "cells": [
  {
   "cell_type": "code",
   "execution_count": null,
   "id": "5a4f9b48",
   "metadata": {
    "ExecuteTime": {
     "end_time": "2023-03-08T05:03:10.019593Z",
     "start_time": "2023-03-08T05:03:10.010382Z"
    }
   },
   "outputs": [],
   "source": [
    "import pandas as pd\n",
    "import numpy as np \n",
    "import matplotlib.pyplot as plt \n",
    "import seaborn as sns\n",
    "import plotly.express as px"
   ]
  },
  {
   "cell_type": "code",
   "execution_count": null,
   "id": "b18283e7",
   "metadata": {
    "ExecuteTime": {
     "end_time": "2023-03-08T05:28:41.061255Z",
     "start_time": "2023-03-08T05:28:41.002239Z"
    }
   },
   "outputs": [],
   "source": [
    "df = pd.read_csv(\"application_train.csv\") # Load data"
   ]
  },
  {
   "cell_type": "code",
   "execution_count": null,
   "id": "578d606f",
   "metadata": {
    "ExecuteTime": {
     "end_time": "2023-03-08T05:28:41.325825Z",
     "start_time": "2023-03-08T05:28:41.318126Z"
    }
   },
   "outputs": [],
   "source": [
    "df.shape"
   ]
  },
  {
   "cell_type": "code",
   "execution_count": null,
   "id": "b77da9f3",
   "metadata": {
    "ExecuteTime": {
     "end_time": "2023-03-08T05:28:41.545989Z",
     "start_time": "2023-03-08T05:28:41.530903Z"
    }
   },
   "outputs": [],
   "source": [
    "df[\"DAYS_EMPLOYED\"].describe()"
   ]
  },
  {
   "cell_type": "markdown",
   "id": "e56bbd95",
   "metadata": {},
   "source": [
    "# check Missing Values"
   ]
  },
  {
   "cell_type": "code",
   "execution_count": null,
   "id": "8b5065d7",
   "metadata": {
    "ExecuteTime": {
     "end_time": "2023-03-08T05:03:11.339323Z",
     "start_time": "2023-03-08T05:03:11.314225Z"
    }
   },
   "outputs": [],
   "source": [
    "df.isna().sum()"
   ]
  },
  {
   "cell_type": "code",
   "execution_count": null,
   "id": "1d15ac86",
   "metadata": {
    "ExecuteTime": {
     "end_time": "2023-03-08T05:03:11.653627Z",
     "start_time": "2023-03-08T05:03:11.632737Z"
    }
   },
   "outputs": [],
   "source": [
    "# Drop Unnecessary data\n",
    "drop = [\"SK_ID_CURR\", \"OWN_CAR_AGE\", \"FLAG_EMP_PHONE\", \"FLAG_WORK_PHONE\", \n",
    " \"FLAG_CONT_MOBILE\", \"FLAG_PHONE\", \"EXT_SOURCE_1\", \"EXT_SOURCE_2\", \n",
    " \"EXT_SOURCE_3\", \"BASEMENTAREA_AVG\", \"YEARS_BEGINEXPLUATATION_AVG\",\n",
    " \"YEARS_BUILD_AVG\",\"COMMONAREA_AVG\", \"ELEVATORS_AVG\", \"ENTRANCES_AVG\", \n",
    " \"FLOORSMAX_AVG\", \"FLOORSMIN_AVG\", \"LANDAREA_AVG\",\"LIVINGAPARTMENTS_AVG\",\n",
    " \"LIVINGAREA_AVG\", \"NONLIVINGAPARTMENTS_AVG\",\"NONLIVINGAREA_AVG\",\"APARTMENTS_MODE\",\n",
    " \"BASEMENTAREA_MODE\",'YEARS_BEGINEXPLUATATION_MODE',\"YEARS_BUILD_MODE\",\"COMMONAREA_MODE\",\n",
    " \"ELEVATORS_MODE\",\"ENTRANCES_MODE\",\"FLOORSMAX_MODE\",\"FLOORSMIN_MODE\",\"LANDAREA_MODE\",\n",
    " 'LIVINGAPARTMENTS_MODE', \"LIVINGAREA_MODE\",\"NONLIVINGAPARTMENTS_MODE\",\"NONLIVINGAREA_MODE\",\n",
    " \"APARTMENTS_MEDI\",\"BASEMENTAREA_MEDI\",\"YEARS_BEGINEXPLUATATION_MEDI\",\"YEARS_BUILD_MEDI\",\n",
    " \"COMMONAREA_MEDI\",\"ELEVATORS_MEDI\",\"ENTRANCES_MEDI\",\"FLOORSMAX_MEDI\",\"FLOORSMIN_MEDI\",\n",
    "\"LANDAREA_MEDI\",\"LIVINGAPARTMENTS_MEDI\",\"LIVINGAREA_MEDI\",\"NONLIVINGAPARTMENTS_MEDI\",\"NONLIVINGAREA_MEDI\",\n",
    " \"TOTALAREA_MODE\",\"OBS_30_CNT_SOCIAL_CIRCLE\",\"DEF_30_CNT_SOCIAL_CIRCLE\",\"OBS_60_CNT_SOCIAL_CIRCLE\",\n",
    " \"DEF_60_CNT_SOCIAL_CIRCLE\",\"DAYS_LAST_PHONE_CHANGE\",\"FLAG_DOCUMENT_2\",\"FLAG_DOCUMENT_3\",\"FLAG_DOCUMENT_4\",\n",
    " \"FLAG_DOCUMENT_5\",\"FLAG_DOCUMENT_6\",\"FLAG_DOCUMENT_7\",\"FLAG_DOCUMENT_8\",\"FLAG_DOCUMENT_9\",\"FLAG_DOCUMENT_10\",\n",
    " \"FLAG_DOCUMENT_11\",\"FLAG_DOCUMENT_12\",\"FLAG_DOCUMENT_13\",\"FLAG_DOCUMENT_14\",\"FLAG_DOCUMENT_15\",\n",
    " \"FLAG_DOCUMENT_16\",\"FLAG_DOCUMENT_17\",\"FLAG_DOCUMENT_18\",\"FLAG_DOCUMENT_19\",\"FLAG_DOCUMENT_20\",\"FLAG_DOCUMENT_21\",\n",
    " \"APARTMENTS_AVG\", \"FONDKAPREMONT_MODE\", \"HOUSETYPE_MODE\", \"WALLSMATERIAL_MODE\", \"EMERGENCYSTATE_MODE\", \"OCCUPATION_TYPE\", \n",
    " \"FLAG_MOBIL\", \"FLAG_EMAIL\"]\n",
    "\n",
    "df.drop(drop, axis=1, inplace=True)"
   ]
  },
  {
   "cell_type": "code",
   "execution_count": null,
   "id": "5abd887f",
   "metadata": {
    "ExecuteTime": {
     "end_time": "2023-03-08T05:03:11.951971Z",
     "start_time": "2023-03-08T05:03:11.921550Z"
    }
   },
   "outputs": [],
   "source": [
    "df.isna().sum()\n",
    "df.dropna(inplace=True)"
   ]
  },
  {
   "cell_type": "code",
   "execution_count": null,
   "id": "dafd954f",
   "metadata": {
    "ExecuteTime": {
     "end_time": "2023-03-08T05:03:12.256326Z",
     "start_time": "2023-03-08T05:03:12.248772Z"
    }
   },
   "outputs": [],
   "source": [
    "df.shape"
   ]
  },
  {
   "cell_type": "code",
   "execution_count": null,
   "id": "de1a55d1",
   "metadata": {
    "ExecuteTime": {
     "end_time": "2023-03-08T05:03:12.588075Z",
     "start_time": "2023-03-08T05:03:12.574723Z"
    }
   },
   "outputs": [],
   "source": [
    "df.columns"
   ]
  },
  {
   "cell_type": "markdown",
   "id": "33507a05",
   "metadata": {},
   "source": [
    "# Numeric variables"
   ]
  },
  {
   "cell_type": "code",
   "execution_count": null,
   "id": "447be7c2",
   "metadata": {
    "ExecuteTime": {
     "end_time": "2023-03-08T05:03:13.262169Z",
     "start_time": "2023-03-08T05:03:13.216486Z"
    }
   },
   "outputs": [],
   "source": [
    "df.describe()\n",
    "df.drop([\"AMT_REQ_CREDIT_BUREAU_DAY\",\"AMT_REQ_CREDIT_BUREAU_WEEK\",\n",
    "         \"AMT_REQ_CREDIT_BUREAU_HOUR\",\"AMT_REQ_CREDIT_BUREAU_YEAR\",\n",
    "         \"AMT_REQ_CREDIT_BUREAU_QRT\",\"AMT_REQ_CREDIT_BUREAU_MON\"],axis=1, inplace=True)"
   ]
  },
  {
   "cell_type": "code",
   "execution_count": null,
   "id": "649bb7ce",
   "metadata": {
    "ExecuteTime": {
     "end_time": "2023-03-08T05:03:13.531437Z",
     "start_time": "2023-03-08T05:03:13.521075Z"
    }
   },
   "outputs": [],
   "source": [
    "drop = [\"REG_REGION_NOT_LIVE_REGION\",\n",
    "        \"REG_REGION_NOT_WORK_REGION\",\n",
    "        \"LIVE_REGION_NOT_WORK_REGION\",\n",
    "        \"REG_CITY_NOT_LIVE_CITY\",\n",
    "        \"REG_CITY_NOT_WORK_CITY\",\n",
    "        \"LIVE_CITY_NOT_WORK_CITY\"]\n",
    "df.drop(drop, axis=1, inplace=True)"
   ]
  },
  {
   "cell_type": "code",
   "execution_count": null,
   "id": "341ac71e",
   "metadata": {
    "ExecuteTime": {
     "end_time": "2023-03-08T05:03:13.881560Z",
     "start_time": "2023-03-08T05:03:13.842351Z"
    }
   },
   "outputs": [],
   "source": [
    "df.describe()"
   ]
  },
  {
   "cell_type": "code",
   "execution_count": null,
   "id": "d876979a",
   "metadata": {
    "ExecuteTime": {
     "end_time": "2023-03-08T05:03:14.181011Z",
     "start_time": "2023-03-08T05:03:14.166922Z"
    }
   },
   "outputs": [],
   "source": [
    "df.dtypes"
   ]
  },
  {
   "cell_type": "code",
   "execution_count": null,
   "id": "84539469",
   "metadata": {
    "ExecuteTime": {
     "end_time": "2023-03-08T05:03:14.658865Z",
     "start_time": "2023-03-08T05:03:14.467104Z"
    }
   },
   "outputs": [],
   "source": [
    "plt.figure(figsize=(12,5))\n",
    "plt.title(\"Distribution of AMT_CREDIT\")\n",
    "ax = sns.distplot(df[\"AMT_CREDIT\"])"
   ]
  },
  {
   "cell_type": "code",
   "execution_count": null,
   "id": "5a6a0966",
   "metadata": {
    "ExecuteTime": {
     "end_time": "2023-03-08T05:03:15.100802Z",
     "start_time": "2023-03-08T05:03:14.938814Z"
    }
   },
   "outputs": [],
   "source": [
    "plt.figure(figsize=(12,5))\n",
    "plt.title(\"Distribution of AMT_CREDIT\")\n",
    "ax = sns.distplot(np.log(df[\"AMT_CREDIT\"]))"
   ]
  },
  {
   "cell_type": "code",
   "execution_count": null,
   "id": "60663c0a",
   "metadata": {
    "ExecuteTime": {
     "end_time": "2023-03-08T05:03:15.928979Z",
     "start_time": "2023-03-08T05:03:15.928972Z"
    }
   },
   "outputs": [],
   "source": [
    "plt.figure(figsize=(12,5))\n",
    "plt.title(\"Distribution of AMT_INCOME_TOTAL\")\n",
    "ax = sns.distplot(df[\"AMT_INCOME_TOTAL\"].dropna())"
   ]
  },
  {
   "cell_type": "code",
   "execution_count": null,
   "id": "6d29f705",
   "metadata": {
    "ExecuteTime": {
     "end_time": "2023-03-08T05:03:16.302030Z",
     "start_time": "2023-03-08T05:03:16.132070Z"
    }
   },
   "outputs": [],
   "source": [
    "plt.figure(figsize=(12,5))\n",
    "plt.title(\"Distribution of AMT_GOODS_PRICE\")\n",
    "ax = sns.distplot(df[\"AMT_GOODS_PRICE\"].dropna())"
   ]
  },
  {
   "cell_type": "markdown",
   "id": "fd8f4570",
   "metadata": {},
   "source": [
    "Some of variables such as Region_rating_client_W_CITY has very bad distribution. "
   ]
  },
  {
   "cell_type": "code",
   "execution_count": null,
   "id": "4a7e4765",
   "metadata": {
    "ExecuteTime": {
     "end_time": "2023-03-08T05:03:16.785604Z",
     "start_time": "2023-03-08T05:03:16.747846Z"
    }
   },
   "outputs": [],
   "source": [
    "df.describe()"
   ]
  },
  {
   "cell_type": "code",
   "execution_count": null,
   "id": "e02e88f3",
   "metadata": {
    "ExecuteTime": {
     "end_time": "2023-03-08T05:03:17.312708Z",
     "start_time": "2023-03-08T05:03:16.941550Z"
    }
   },
   "outputs": [],
   "source": [
    "num_vars = df.select_dtypes(include=['float', 'int']).columns.tolist()\n",
    "\n",
    "# Plot each numerical variable\n",
    "for var in num_vars:\n",
    "    fig = px.box(df, x=var)\n",
    "    fig.show()"
   ]
  },
  {
   "cell_type": "markdown",
   "id": "8e2f01e1",
   "metadata": {},
   "source": [
    "# Categorical EDA&Trans"
   ]
  },
  {
   "cell_type": "markdown",
   "id": "d14d83b0",
   "metadata": {
    "ExecuteTime": {
     "end_time": "2023-03-06T23:19:05.042284Z",
     "start_time": "2023-03-06T23:19:04.931853Z"
    }
   },
   "source": [
    "### Target"
   ]
  },
  {
   "cell_type": "code",
   "execution_count": null,
   "id": "4f31e892",
   "metadata": {
    "ExecuteTime": {
     "end_time": "2023-03-08T05:03:17.564431Z",
     "start_time": "2023-03-08T05:03:17.543828Z"
    }
   },
   "outputs": [],
   "source": [
    "import plotly.graph_objects as go\n",
    "import plotly.express as px\n",
    "from plotly import tools\n",
    "from plotly.offline import init_notebook_mode, iplot\n",
    "def bar_hor(df, col, title, color, w=None, h=None, lm=0, limit=100, return_trace=False, rev=False, xlb = False):\n",
    "    cnt_srs = df[col].value_counts()\n",
    "    yy = cnt_srs.head(limit).index[::-1] \n",
    "    xx = cnt_srs.head(limit).values[::-1] \n",
    "    if rev:\n",
    "        yy = cnt_srs.tail(limit).index[::-1] \n",
    "        xx = cnt_srs.tail(limit).values[::-1] \n",
    "    if xlb:\n",
    "        trace = go.Bar(y=xlb, x=xx, orientation = 'h', marker=dict(color=color))\n",
    "    else:\n",
    "        trace = go.Bar(y=yy, x=xx, orientation = 'h', marker=dict(color=color))\n",
    "    if return_trace:\n",
    "        return trace \n",
    "    layout = dict(title=title, margin=dict(l=lm), width=w, height=h)\n",
    "    data = [trace]\n",
    "    fig = go.Figure(data=data, layout=layout)\n",
    "    return fig\n",
    "    \n",
    "bar_hor(df, \"TARGET\", \"Distribution of Target Variable\" ,\n",
    "        [\"#96D38C\", '#FEBFB3'], h=350, w=600, lm=200, xlb = ['Target : 1','Target : 0'])"
   ]
  },
  {
   "cell_type": "markdown",
   "id": "896e60c2",
   "metadata": {},
   "source": [
    "### gender"
   ]
  },
  {
   "cell_type": "code",
   "execution_count": null,
   "id": "df086d65",
   "metadata": {
    "ExecuteTime": {
     "end_time": "2023-03-08T05:03:17.903264Z",
     "start_time": "2023-03-08T05:03:17.891171Z"
    }
   },
   "outputs": [],
   "source": [
    "def gp(col, title):\n",
    "    df1 = df[df[\"TARGET\"] == 1]\n",
    "    df0 = df[df[\"TARGET\"] == 0]\n",
    "    a1 = df1[col].value_counts()\n",
    "    b1 = df0[col].value_counts()\n",
    "    \n",
    "    total = dict(df[col].value_counts())\n",
    "    x0 = a1.index\n",
    "    x1 = b1.index\n",
    "    \n",
    "    y0 = [float(x)*100 / total[x0[i]] for i,x in enumerate(a1.values)]\n",
    "    y1 = [float(x)*100 / total[x1[i]] for i,x in enumerate(b1.values)]\n",
    "\n",
    "    trace1 = go.Bar(x=a1.index, y=y0, name='Target : 1', marker=dict(color=\"#96D38C\"))\n",
    "    trace2 = go.Bar(x=b1.index, y=y1, name='Target : 0', marker=dict(color=\"#FEBFB3\"))\n",
    "    return trace1, trace2 "
   ]
  },
  {
   "cell_type": "code",
   "execution_count": null,
   "id": "e8864991",
   "metadata": {
    "ExecuteTime": {
     "end_time": "2023-03-08T05:03:18.070065Z",
     "start_time": "2023-03-08T05:03:18.035381Z"
    }
   },
   "outputs": [],
   "source": [
    "tr0 = bar_hor(df, \"CODE_GENDER\", \"Distribution of CODE_GENDER Variable\" ,\"#f975ae\", w=700, lm=100, return_trace= True)\n",
    "tr1, tr2 = gp('CODE_GENDER', 'Distribution of Target with Applicant Gender')\n",
    "\n",
    "fig = tools.make_subplots(rows=1, cols=3, print_grid=False, subplot_titles = [\"Gender Distribution\" , \"Gender, Target=1\" ,\"Gender, Target=0\"])\n",
    "fig.append_trace(tr0, 1, 1);\n",
    "fig.append_trace(tr1, 1, 2);\n",
    "fig.append_trace(tr2, 1, 3);\n",
    "fig['layout'].update(height=350, showlegend=False, margin=dict(l=50));\n",
    "iplot(fig);"
   ]
  },
  {
   "cell_type": "markdown",
   "id": "cef7e259",
   "metadata": {},
   "source": [
    "Number of Females are much more than number of Men in the data"
   ]
  },
  {
   "cell_type": "markdown",
   "id": "a610d0d2",
   "metadata": {},
   "source": [
    "### SUITE and Income"
   ]
  },
  {
   "cell_type": "code",
   "execution_count": null,
   "id": "d6195d7d",
   "metadata": {
    "ExecuteTime": {
     "end_time": "2023-03-08T05:03:18.582857Z",
     "start_time": "2023-03-08T05:03:18.561844Z"
    }
   },
   "outputs": [],
   "source": [
    "import plotly.graph_objects as go\n",
    "temp = df[\"NAME_TYPE_SUITE\"].value_counts()\n",
    "#print(\"Total number of states : \",len(temp))\n",
    "trace = go.Bar(\n",
    "    x = temp.index,\n",
    "    y = (temp / temp.sum())*100,\n",
    ")\n",
    "data = [trace]\n",
    "layout = go.Layout(\n",
    "    title = \"Who accompanied client when applying for the  application in % \",\n",
    "    xaxis=dict(\n",
    "        title='Name of type of the Suite',\n",
    "        tickfont=dict(\n",
    "            size=14,\n",
    "            color='rgb(107, 107, 107)'\n",
    "        )\n",
    "    ),\n",
    "    yaxis=dict(\n",
    "        title='Count of Name of type of the Suite in %',\n",
    "        titlefont=dict(\n",
    "            size=16,\n",
    "            color='rgb(107, 107, 107)'\n",
    "        ),\n",
    "        tickfont=dict(\n",
    "            size=14,\n",
    "            color='rgb(107, 107, 107)'\n",
    "        )\n",
    ")\n",
    ")\n",
    "fig = go.Figure(data=data, layout=layout)\n",
    "fig"
   ]
  },
  {
   "cell_type": "code",
   "execution_count": null,
   "id": "172373d1",
   "metadata": {
    "ExecuteTime": {
     "end_time": "2023-03-08T05:03:18.772001Z",
     "start_time": "2023-03-08T05:03:18.750335Z"
    }
   },
   "outputs": [],
   "source": [
    "import plotly.graph_objects as go\n",
    "temp = df[\"NAME_INCOME_TYPE\"].value_counts()\n",
    "#print(\"Total number of states : \",len(temp))\n",
    "trace = go.Bar(\n",
    "    x = temp.index,\n",
    "    y = (temp / temp.sum())*100,\n",
    ")\n",
    "data = [trace]\n",
    "layout = go.Layout(\n",
    "    title = \"Who accompanied client when applying for the  application in % \",\n",
    "    xaxis=dict(\n",
    "        title='Name of type of the Suite',\n",
    "        tickfont=dict(\n",
    "            size=14,\n",
    "            color='rgb(107, 107, 107)'\n",
    "        )\n",
    "    ),\n",
    "    yaxis=dict(\n",
    "        title='Count of Name of type of the Suite in %',\n",
    "        titlefont=dict(\n",
    "            size=16,\n",
    "            color='rgb(107, 107, 107)'\n",
    "        ),\n",
    "        tickfont=dict(\n",
    "            size=14,\n",
    "            color='rgb(107, 107, 107)'\n",
    "        )\n",
    ")\n",
    ")\n",
    "fig = go.Figure(data=data, layout=layout)\n",
    "fig"
   ]
  },
  {
   "cell_type": "code",
   "execution_count": null,
   "id": "7cdfaa15",
   "metadata": {
    "ExecuteTime": {
     "end_time": "2023-03-08T05:03:18.966424Z",
     "start_time": "2023-03-08T05:03:18.953131Z"
    }
   },
   "outputs": [],
   "source": [
    "df[\"NAME_INCOME_TYPE\"] = df[\"NAME_INCOME_TYPE\"].map({\"Commercial associate\":\"Businessman\", \n",
    "                                                             \"Student\":\"Unemployed\", \"Maternity leave\":\"Unemployed\",\n",
    "                                                            \"State servant\":\"State servent\", \"Working\":\"Working\",\n",
    "                                                            \"Unemployed\":\"Unemployed\",\"Pensioner\":\"Pensioner\"})"
   ]
  },
  {
   "cell_type": "code",
   "execution_count": null,
   "id": "dead3f00",
   "metadata": {
    "ExecuteTime": {
     "end_time": "2023-03-08T05:03:19.330985Z",
     "start_time": "2023-03-08T05:03:19.317238Z"
    }
   },
   "outputs": [],
   "source": [
    "df[\"NAME_TYPE_SUITE\"] = df[\"NAME_TYPE_SUITE\"].map({\"Spouse, partner\": \"Others\",\n",
    "                                                                 \"Children\":\"Others\",\"Other_B\":\"Others\",\n",
    "                                                                 \"Other_A\":\"Others\",\"Group of people\":\"Others\",\n",
    "                                                                 \"Unaccompanied\":\"Unaccompanied\",\"Family\":\"Family\"})"
   ]
  },
  {
   "cell_type": "code",
   "execution_count": null,
   "id": "bd83d396",
   "metadata": {
    "ExecuteTime": {
     "end_time": "2023-03-08T05:03:19.487426Z",
     "start_time": "2023-03-08T05:03:19.475011Z"
    }
   },
   "outputs": [],
   "source": [
    "df = df[df[\"NAME_INCOME_TYPE\"] != \"Unemployed\"]"
   ]
  },
  {
   "cell_type": "code",
   "execution_count": null,
   "id": "9b1c4da6",
   "metadata": {
    "ExecuteTime": {
     "end_time": "2023-03-08T05:03:19.718579Z",
     "start_time": "2023-03-08T05:03:19.675193Z"
    }
   },
   "outputs": [],
   "source": [
    "tr0 = bar_hor(df, \"NAME_TYPE_SUITE\", \"Distribution of CODE_GENDER Variable\" ,\"#f975ae\", w=700, lm=100, return_trace= True)\n",
    "tr1 = bar_hor(df, \"NAME_INCOME_TYPE\", \"Distribution of CODE_GENDER Variable\" ,\"#f975ae\", w=700, lm=100, return_trace= True)\n",
    "\n",
    "fig = tools.make_subplots(rows=1, cols=2, print_grid=False, subplot_titles = ['Applicants Suite Type' , 'Applicants Income Type'])\n",
    "fig.append_trace(tr0, 1, 1);\n",
    "fig.append_trace(tr1, 1, 2);\n",
    "fig['layout'].update(height=400, showlegend=False, margin=dict(l=100));\n",
    "iplot(fig);"
   ]
  },
  {
   "cell_type": "code",
   "execution_count": null,
   "id": "de592443",
   "metadata": {
    "ExecuteTime": {
     "end_time": "2023-03-08T05:03:19.884723Z",
     "start_time": "2023-03-08T05:03:19.830825Z"
    }
   },
   "outputs": [],
   "source": [
    "tr1, tr2 = gp('NAME_TYPE_SUITE', 'Applicants Type Suites which repayed the loan')\n",
    "fig = tools.make_subplots(rows=1, cols=2, print_grid=False, \n",
    "                          subplot_titles = [\"Applicants Type Suites distribution when Target = 1\", \"Applicants Type Suites distribution when Target = 0\"])\n",
    "fig.append_trace(tr1, 1, 1);\n",
    "fig.append_trace(tr2, 1, 2);\n",
    "fig['layout'].update(height=350, showlegend=False, margin=dict(l=120));\n",
    "iplot(fig);\n",
    "\n",
    "\n",
    "tr1, tr2 = gp('NAME_INCOME_TYPE', 'Applicants Income Types which repayed the loan')\n",
    "fig = tools.make_subplots(rows=1, cols=2, print_grid=False, \n",
    "                          subplot_titles = [\"Applicants Income Types when Target = 1\", \"Applicants Income Type When Target = 0\"])\n",
    "fig.append_trace(tr1, 1, 1);\n",
    "fig.append_trace(tr2, 1, 2);\n",
    "fig['layout'].update(height=350, showlegend=False, margin=dict(l=120));\n",
    "iplot(fig);"
   ]
  },
  {
   "cell_type": "markdown",
   "id": "e1ad5e31",
   "metadata": {},
   "source": [
    "### Car"
   ]
  },
  {
   "cell_type": "code",
   "execution_count": null,
   "id": "8424094d",
   "metadata": {
    "ExecuteTime": {
     "end_time": "2023-03-08T05:03:20.345233Z",
     "start_time": "2023-03-08T05:03:20.323616Z"
    },
    "scrolled": true
   },
   "outputs": [],
   "source": [
    "temp = df[\"FLAG_OWN_CAR\"].value_counts()\n",
    "#print(\"Total number of states : \",len(temp))\n",
    "trace = go.Bar(\n",
    "    x = temp.index,\n",
    "    y = (temp / temp.sum())*100,\n",
    ")\n",
    "data = [trace]\n",
    "layout = go.Layout(\n",
    "    title = \"Who accompanied client when applying for the  application in % \",\n",
    "    xaxis=dict(\n",
    "        title='Name of type of the Suite',\n",
    "        tickfont=dict(\n",
    "            size=14,\n",
    "            color='rgb(107, 107, 107)'\n",
    "        )\n",
    "    ),\n",
    "    yaxis=dict(\n",
    "        title='Count of Name of type of the Suite in %',\n",
    "        titlefont=dict(\n",
    "            size=16,\n",
    "            color='rgb(107, 107, 107)'\n",
    "        ),\n",
    "        tickfont=dict(\n",
    "            size=14,\n",
    "            color='rgb(107, 107, 107)'\n",
    "        )\n",
    ")\n",
    ")\n",
    "fig = go.Figure(data=data, layout=layout)\n",
    "fig"
   ]
  },
  {
   "cell_type": "markdown",
   "id": "4e97ff5f",
   "metadata": {
    "ExecuteTime": {
     "end_time": "2023-03-07T04:45:04.031255Z",
     "start_time": "2023-03-07T04:45:04.024568Z"
    }
   },
   "source": [
    "### EDU"
   ]
  },
  {
   "cell_type": "code",
   "execution_count": null,
   "id": "77bfe441",
   "metadata": {
    "ExecuteTime": {
     "end_time": "2023-03-08T05:03:20.911176Z",
     "start_time": "2023-03-08T05:03:20.841409Z"
    }
   },
   "outputs": [],
   "source": [
    "tr1 = bar_hor(df, \"NAME_EDUCATION_TYPE\", \"Distribution of \" ,\"#f975ae\", w=700, lm=100, return_trace= True)\n",
    "tr2 = bar_hor(df, \"NAME_HOUSING_TYPE\", \"Distribution of \" ,\"#f975ae\", w=700, lm=100, return_trace = True)\n",
    "\n",
    "fig = tools.make_subplots(rows=1, cols=2, print_grid=False, subplot_titles = ['Applicants Education Type', 'Applicants Housing Type' ])\n",
    "fig.append_trace(tr1, 1, 1);\n",
    "fig.append_trace(tr2, 1, 2);\n",
    "fig['layout'].update(height=400,showlegend=False, margin=dict(l=100));\n",
    "iplot(fig);\n",
    "\n",
    "\n",
    "tr1, tr2 = gp('NAME_EDUCATION_TYPE', 'Applicants Income Types which repayed the loan')\n",
    "tr3, tr4 = gp('NAME_HOUSING_TYPE', 'Applicants Income Types which repayed the loan')\n",
    "fig = tools.make_subplots(rows=1, cols=2, print_grid=False, \n",
    "                          subplot_titles = [\"Applicants Education Types, Target=1\", \"Applicants Housing Type, Target=1\"])\n",
    "fig.append_trace(tr1, 1, 1);\n",
    "fig.append_trace(tr3, 1, 2);\n",
    "fig['layout'].update(height=350, showlegend=False, margin=dict(l=30));\n",
    "iplot(fig);"
   ]
  },
  {
   "cell_type": "code",
   "execution_count": null,
   "id": "df51c4fc",
   "metadata": {
    "ExecuteTime": {
     "end_time": "2023-03-08T05:03:21.102573Z",
     "start_time": "2023-03-08T05:03:21.045530Z"
    }
   },
   "outputs": [],
   "source": [
    "tr1 = bar_hor(df, \"NAME_FAMILY_STATUS\", \"Distribution of \" ,\"#f975ae\", w=700, lm=100, return_trace= True)\n",
    "tr2 = bar_hor(df, \"FLAG_OWN_CAR\", \"Distribution of \" ,\"#f975ae\", w=700, lm=100, return_trace = True)\n",
    "\n",
    "fig = tools.make_subplots(rows=1, cols=2, print_grid=False, subplot_titles = ['NAME_FAMILY_STATUS', 'FLAG OWN CAR' ])\n",
    "fig.append_trace(tr1, 1, 1);\n",
    "fig.append_trace(tr2, 1, 2);\n",
    "fig['layout'].update(height=400,showlegend=False, margin=dict(l=100));\n",
    "iplot(fig);\n",
    "\n",
    "\n",
    "tr1, tr2 = gp('NAME_FAMILY_STATUS', 'FLAG_OWN_CAR which repayed the loan')\n",
    "tr3, tr4 = gp('FLAG_OWN_CAR', 'FLAG_OWN_CAR which repayed the loan')\n",
    "fig = tools.make_subplots(rows=1, cols=2, print_grid=False, \n",
    "                          subplot_titles = ['NAME_FAMILY_STATUS, target = 1', 'FLAG OWN CAR. target = 1'])\n",
    "fig.append_trace(tr1, 1, 1);\n",
    "fig.append_trace(tr3, 1, 2);\n",
    "fig['layout'].update(height=350, showlegend=False, margin=dict(l=30));\n",
    "iplot(fig);"
   ]
  },
  {
   "cell_type": "markdown",
   "id": "a217d1f7",
   "metadata": {},
   "source": [
    "# standardized Numerical  "
   ]
  },
  {
   "cell_type": "code",
   "execution_count": null,
   "id": "b87f6a06",
   "metadata": {
    "ExecuteTime": {
     "end_time": "2023-03-08T05:03:21.451047Z",
     "start_time": "2023-03-08T05:03:21.437306Z"
    }
   },
   "outputs": [],
   "source": [
    "df.dtypes"
   ]
  },
  {
   "cell_type": "code",
   "execution_count": null,
   "id": "cc290a62",
   "metadata": {
    "ExecuteTime": {
     "end_time": "2023-03-08T05:03:21.640954Z",
     "start_time": "2023-03-08T05:03:21.631949Z"
    }
   },
   "outputs": [],
   "source": [
    "df[\"TARGET\"] = df[\"TARGET\"].astype(str)"
   ]
  },
  {
   "cell_type": "code",
   "execution_count": null,
   "id": "0392b104",
   "metadata": {
    "ExecuteTime": {
     "end_time": "2023-03-08T05:03:21.855849Z",
     "start_time": "2023-03-08T05:03:21.830266Z"
    }
   },
   "outputs": [],
   "source": [
    "from sklearn.preprocessing import MinMaxScaler\n",
    "# select only numerical columns\n",
    "num_cols = df.select_dtypes(include=['float',\"int\"]).columns\n",
    "# create scaler object\n",
    "scaler = MinMaxScaler()\n",
    "# fit and transform data using scaler\n",
    "scaled_data = scaler.fit_transform(df[num_cols])\n",
    "# assign back to original column names\n",
    "df.loc[:, num_cols] = scaled_data"
   ]
  },
  {
   "cell_type": "code",
   "execution_count": null,
   "id": "8bae3120",
   "metadata": {
    "ExecuteTime": {
     "end_time": "2023-03-08T05:03:22.026570Z",
     "start_time": "2023-03-08T05:03:22.010923Z"
    }
   },
   "outputs": [],
   "source": [
    "df.columns"
   ]
  },
  {
   "cell_type": "code",
   "execution_count": null,
   "id": "caa5b299",
   "metadata": {
    "ExecuteTime": {
     "end_time": "2023-03-08T05:03:29.704859Z",
     "start_time": "2023-03-08T05:03:29.668986Z"
    }
   },
   "outputs": [],
   "source": [
    "df.describe()"
   ]
  },
  {
   "cell_type": "code",
   "execution_count": null,
   "id": "ee02b538",
   "metadata": {
    "ExecuteTime": {
     "end_time": "2023-03-08T05:04:01.473741Z",
     "start_time": "2023-03-08T05:04:01.302387Z"
    }
   },
   "outputs": [],
   "source": [
    "from scipy.stats import boxcox\n",
    "\n",
    "plt.figure(figsize=(12,5))\n",
    "plt.title(\"Distribution of AMT_CREDIT\")\n",
    "ax = sns.distplot((df[\"AMT_CREDIT\"]))"
   ]
  },
  {
   "cell_type": "markdown",
   "id": "c72d1349",
   "metadata": {},
   "source": [
    "# Feature Crossing"
   ]
  },
  {
   "cell_type": "code",
   "execution_count": null,
   "id": "c028eba7",
   "metadata": {
    "ExecuteTime": {
     "end_time": "2023-03-08T04:06:23.410636Z",
     "start_time": "2023-03-08T04:06:23.389172Z"
    }
   },
   "outputs": [],
   "source": [
    "from sklearn.preprocessing import PolynomialFeatures\n",
    "df_num = df[num_cols]\n",
    "\n",
    "poly = PolynomialFeatures(interaction_only=True, include_bias=False)\n",
    "crossed = poly.fit_transform(df_num)\n",
    "\n",
    "# create feature names manually\n",
    "feature_names = poly.get_feature_names_out(df_num.columns)\n",
    "feature_names = [name.replace(' ', '*') for name in feature_names]\n",
    "\n",
    "# print the crossed features and their names\n",
    "df_crossing = pd.DataFrame(crossed, columns=feature_names)"
   ]
  },
  {
   "cell_type": "code",
   "execution_count": null,
   "id": "263e32fc",
   "metadata": {
    "ExecuteTime": {
     "end_time": "2023-03-08T04:12:03.308688Z",
     "start_time": "2023-03-08T04:12:03.285657Z"
    }
   },
   "outputs": [],
   "source": [
    "df_crossing.head()"
   ]
  },
  {
   "cell_type": "code",
   "execution_count": null,
   "id": "b23e33c0",
   "metadata": {
    "ExecuteTime": {
     "end_time": "2023-03-08T04:12:08.374789Z",
     "start_time": "2023-03-08T04:12:08.362649Z"
    }
   },
   "outputs": [],
   "source": [
    "df_crossing.columns"
   ]
  },
  {
   "cell_type": "code",
   "execution_count": null,
   "id": "52366da0",
   "metadata": {},
   "outputs": [],
   "source": [
    "df_crossing[\"AMT_CREDIT*AMT_ANNUITY\"]"
   ]
  },
  {
   "cell_type": "code",
   "execution_count": null,
   "id": "b78c3c1f",
   "metadata": {
    "ExecuteTime": {
     "end_time": "2023-03-08T04:30:19.106241Z",
     "start_time": "2023-03-08T04:30:18.965218Z"
    }
   },
   "outputs": [],
   "source": [
    "sns.scatterplot(data=df_crossing, x=\"AMT_CREDIT*AMT_ANNUITY\", y=\"AMT_ANNUITY\")"
   ]
  },
  {
   "cell_type": "code",
   "execution_count": null,
   "id": "6307a213",
   "metadata": {
    "ExecuteTime": {
     "end_time": "2023-03-08T04:14:42.517940Z",
     "start_time": "2023-03-08T04:14:41.911851Z"
    }
   },
   "outputs": [],
   "source": [
    "sns.set(font_scale=0.8)\n",
    "sns.set_style(\"whitegrid\")\n",
    "sns.set_palette(\"husl\")\n",
    "sns.set(rc={\"figure.figsize\":(12,6)})\n",
    "sns.heatmap(df_crossing.corr(), annot=False, cmap=\"coolwarm\")"
   ]
  },
  {
   "cell_type": "markdown",
   "id": "57e78309",
   "metadata": {},
   "source": [
    "# Outlier Detection: Isolation Tree"
   ]
  },
  {
   "cell_type": "code",
   "execution_count": null,
   "id": "5e8cfef8",
   "metadata": {
    "ExecuteTime": {
     "end_time": "2023-03-07T16:58:47.362702Z",
     "start_time": "2023-03-07T16:58:47.346229Z"
    }
   },
   "outputs": [],
   "source": [
    "df.dtypes"
   ]
  },
  {
   "cell_type": "code",
   "execution_count": null,
   "id": "e568ca80",
   "metadata": {
    "ExecuteTime": {
     "end_time": "2023-03-07T16:58:48.071185Z",
     "start_time": "2023-03-07T16:58:48.046188Z"
    }
   },
   "outputs": [],
   "source": [
    "df_dummy = pd.get_dummies(df)"
   ]
  },
  {
   "cell_type": "code",
   "execution_count": null,
   "id": "2ce5083a",
   "metadata": {
    "ExecuteTime": {
     "end_time": "2023-03-07T17:04:59.974008Z",
     "start_time": "2023-03-07T17:04:58.812233Z"
    }
   },
   "outputs": [],
   "source": [
    "from sklearn.ensemble import IsolationForest\n",
    "dat_iso = df_dummy\n",
    "model = IsolationForest(n_estimators = 300,max_samples ='auto',contamination = \"auto\", max_features = 1.0)\n",
    "model.fit(dat_iso)\n",
    "scores = model.decision_function(dat_iso)\n",
    "anomaly = model.predict(dat_iso)\n",
    "dat_iso['scores'] = scores\n",
    "dat_iso['anomaly'] = anomaly\n",
    "anomaly = dat_iso.loc[dat_iso['anomaly'] == -1]\n",
    "anomaly_index = list(dat_iso.index)\n",
    "dat_iso_drop = dat_iso[dat_iso.anomaly == 1]\n",
    "dat_iso_drop.head()\n",
    "dat_iso_drop.drop(columns=['scores', 'anomaly'], inplace= True)\n",
    "dat_iso_drop.head()"
   ]
  },
  {
   "cell_type": "code",
   "execution_count": null,
   "id": "28ef2909",
   "metadata": {
    "ExecuteTime": {
     "end_time": "2023-03-07T17:04:44.776972Z",
     "start_time": "2023-03-07T17:04:44.765172Z"
    }
   },
   "outputs": [],
   "source": [
    "df_dummy.shape"
   ]
  },
  {
   "cell_type": "code",
   "execution_count": null,
   "id": "97523942",
   "metadata": {
    "ExecuteTime": {
     "end_time": "2023-03-07T17:05:46.542197Z",
     "start_time": "2023-03-07T17:05:46.531043Z"
    }
   },
   "outputs": [],
   "source": [
    "dat_iso_drop.shape"
   ]
  },
  {
   "cell_type": "code",
   "execution_count": null,
   "id": "de86289f",
   "metadata": {
    "ExecuteTime": {
     "end_time": "2023-03-07T17:07:58.633596Z",
     "start_time": "2023-03-07T17:07:58.192635Z"
    }
   },
   "outputs": [],
   "source": [
    "num_vars = df.select_dtypes(include=['float', 'int']).columns.tolist()\n",
    "\n",
    "# Plot each numerical variable\n",
    "for var in num_vars:\n",
    "    fig = px.box(dat_iso_drop, x=var)\n",
    "    fig.show()"
   ]
  }
 ],
 "metadata": {
  "kernelspec": {
   "display_name": "base",
   "language": "python",
   "name": "python3"
  },
  "language_info": {
   "codemirror_mode": {
    "name": "ipython",
    "version": 3
   },
   "file_extension": ".py",
   "mimetype": "text/x-python",
   "name": "python",
   "nbconvert_exporter": "python",
   "pygments_lexer": "ipython3",
   "version": "3.9.13"
  },
  "toc": {
   "base_numbering": 1,
   "nav_menu": {},
   "number_sections": true,
   "sideBar": true,
   "skip_h1_title": false,
   "title_cell": "Table of Contents",
   "title_sidebar": "Contents",
   "toc_cell": false,
   "toc_position": {},
   "toc_section_display": true,
   "toc_window_display": false
  },
  "varInspector": {
   "cols": {
    "lenName": 16,
    "lenType": 16,
    "lenVar": 40
   },
   "kernels_config": {
    "python": {
     "delete_cmd_postfix": "",
     "delete_cmd_prefix": "del ",
     "library": "var_list.py",
     "varRefreshCmd": "print(var_dic_list())"
    },
    "r": {
     "delete_cmd_postfix": ") ",
     "delete_cmd_prefix": "rm(",
     "library": "var_list.r",
     "varRefreshCmd": "cat(var_dic_list()) "
    }
   },
   "types_to_exclude": [
    "module",
    "function",
    "builtin_function_or_method",
    "instance",
    "_Feature"
   ],
   "window_display": false
  },
  "vscode": {
   "interpreter": {
    "hash": "cb555bd7060a07871f5481c2b26cf171ae52f1049dd227be1e157dc7819e37d0"
   }
  }
 },
 "nbformat": 4,
 "nbformat_minor": 5
}
